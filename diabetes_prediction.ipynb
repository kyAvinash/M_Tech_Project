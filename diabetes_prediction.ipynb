{
 "cells": [
  {
   "cell_type": "code",
   "execution_count": 1,
   "id": "cd4db68e-ae85-4111-9a1c-b59f237cf446",
   "metadata": {},
   "outputs": [
    {
     "name": "stdout",
     "output_type": "stream",
     "text": [
      "Requirement already satisfied: pandas in c:\\users\\avina\\appdata\\local\\programs\\python\\python39\\lib\\site-packages (2.2.3)\n",
      "Requirement already satisfied: numpy in c:\\users\\avina\\appdata\\local\\programs\\python\\python39\\lib\\site-packages (1.23.5)\n",
      "Requirement already satisfied: scikit-learn in c:\\users\\avina\\appdata\\local\\programs\\python\\python39\\lib\\site-packages (1.5.2)\n",
      "Requirement already satisfied: xgboost in c:\\users\\avina\\appdata\\local\\programs\\python\\python39\\lib\\site-packages (2.1.4)\n",
      "Requirement already satisfied: tensorflow in c:\\users\\avina\\appdata\\roaming\\python\\python39\\site-packages (2.12.0)\n",
      "Requirement already satisfied: shap in c:\\users\\avina\\appdata\\local\\programs\\python\\python39\\lib\\site-packages (0.47.2)\n",
      "Requirement already satisfied: matplotlib in c:\\users\\avina\\appdata\\local\\programs\\python\\python39\\lib\\site-packages (3.9.4)\n",
      "Requirement already satisfied: seaborn in c:\\users\\avina\\appdata\\local\\programs\\python\\python39\\lib\\site-packages (0.13.2)\n",
      "Requirement already satisfied: pytz>=2020.1 in c:\\users\\avina\\appdata\\local\\programs\\python\\python39\\lib\\site-packages (from pandas) (2022.6)\n",
      "Requirement already satisfied: python-dateutil>=2.8.2 in c:\\users\\avina\\appdata\\local\\programs\\python\\python39\\lib\\site-packages (from pandas) (2.8.2)\n",
      "Requirement already satisfied: tzdata>=2022.7 in c:\\users\\avina\\appdata\\local\\programs\\python\\python39\\lib\\site-packages (from pandas) (2025.2)\n",
      "Requirement already satisfied: threadpoolctl>=3.1.0 in c:\\users\\avina\\appdata\\local\\programs\\python\\python39\\lib\\site-packages (from scikit-learn) (3.5.0)\n",
      "Requirement already satisfied: scipy>=1.6.0 in c:\\users\\avina\\appdata\\local\\programs\\python\\python39\\lib\\site-packages (from scikit-learn) (1.13.1)\n",
      "Requirement already satisfied: joblib>=1.2.0 in c:\\users\\avina\\appdata\\local\\programs\\python\\python39\\lib\\site-packages (from scikit-learn) (1.4.2)\n",
      "Requirement already satisfied: tensorflow-intel==2.12.0 in c:\\users\\avina\\appdata\\roaming\\python\\python39\\site-packages (from tensorflow) (2.12.0)\n",
      "Requirement already satisfied: wrapt<1.15,>=1.11.0 in c:\\users\\avina\\appdata\\local\\programs\\python\\python39\\lib\\site-packages (from tensorflow-intel==2.12.0->tensorflow) (1.14.1)\n",
      "Requirement already satisfied: tensorflow-estimator<2.13,>=2.12.0 in c:\\users\\avina\\appdata\\local\\programs\\python\\python39\\lib\\site-packages (from tensorflow-intel==2.12.0->tensorflow) (2.12.0)\n",
      "Requirement already satisfied: jax>=0.3.15 in c:\\users\\avina\\appdata\\roaming\\python\\python39\\site-packages (from tensorflow-intel==2.12.0->tensorflow) (0.4.8)\n",
      "Requirement already satisfied: libclang>=13.0.0 in c:\\users\\avina\\appdata\\local\\programs\\python\\python39\\lib\\site-packages (from tensorflow-intel==2.12.0->tensorflow) (18.1.1)\n",
      "Requirement already satisfied: tensorflow-io-gcs-filesystem>=0.23.1 in c:\\users\\avina\\appdata\\local\\programs\\python\\python39\\lib\\site-packages (from tensorflow-intel==2.12.0->tensorflow) (0.31.0)\n",
      "Requirement already satisfied: protobuf!=4.21.0,!=4.21.1,!=4.21.2,!=4.21.3,!=4.21.4,!=4.21.5,<5.0.0dev,>=3.20.3 in c:\\users\\avina\\appdata\\local\\programs\\python\\python39\\lib\\site-packages (from tensorflow-intel==2.12.0->tensorflow) (4.25.7)\n",
      "Requirement already satisfied: google-pasta>=0.1.1 in c:\\users\\avina\\appdata\\roaming\\python\\python39\\site-packages (from tensorflow-intel==2.12.0->tensorflow) (0.2.0)\n",
      "Requirement already satisfied: keras<2.13,>=2.12.0 in c:\\users\\avina\\appdata\\roaming\\python\\python39\\site-packages (from tensorflow-intel==2.12.0->tensorflow) (2.12.0)\n",
      "Requirement already satisfied: setuptools in c:\\users\\avina\\appdata\\local\\programs\\python\\python39\\lib\\site-packages (from tensorflow-intel==2.12.0->tensorflow) (58.1.0)\n",
      "Requirement already satisfied: six>=1.12.0 in c:\\users\\avina\\appdata\\local\\programs\\python\\python39\\lib\\site-packages (from tensorflow-intel==2.12.0->tensorflow) (1.16.0)\n",
      "Requirement already satisfied: astunparse>=1.6.0 in c:\\users\\avina\\appdata\\roaming\\python\\python39\\site-packages (from tensorflow-intel==2.12.0->tensorflow) (1.6.3)\n",
      "Requirement already satisfied: tensorboard<2.13,>=2.12 in c:\\users\\avina\\appdata\\roaming\\python\\python39\\site-packages (from tensorflow-intel==2.12.0->tensorflow) (2.12.1)\n",
      "Requirement already satisfied: absl-py>=1.0.0 in c:\\users\\avina\\appdata\\roaming\\python\\python39\\site-packages (from tensorflow-intel==2.12.0->tensorflow) (1.4.0)\n",
      "Requirement already satisfied: flatbuffers>=2.0 in c:\\users\\avina\\appdata\\local\\programs\\python\\python39\\lib\\site-packages (from tensorflow-intel==2.12.0->tensorflow) (25.2.10)\n",
      "Requirement already satisfied: termcolor>=1.1.0 in c:\\users\\avina\\appdata\\local\\programs\\python\\python39\\lib\\site-packages (from tensorflow-intel==2.12.0->tensorflow) (3.1.0)\n",
      "Requirement already satisfied: opt-einsum>=2.3.2 in c:\\users\\avina\\appdata\\roaming\\python\\python39\\site-packages (from tensorflow-intel==2.12.0->tensorflow) (3.3.0)\n",
      "Requirement already satisfied: typing-extensions>=3.6.6 in c:\\users\\avina\\appdata\\local\\programs\\python\\python39\\lib\\site-packages (from tensorflow-intel==2.12.0->tensorflow) (4.13.2)\n",
      "Requirement already satisfied: packaging in c:\\users\\avina\\appdata\\local\\programs\\python\\python39\\lib\\site-packages (from tensorflow-intel==2.12.0->tensorflow) (21.3)\n",
      "Requirement already satisfied: gast<=0.4.0,>=0.2.1 in c:\\users\\avina\\appdata\\roaming\\python\\python39\\site-packages (from tensorflow-intel==2.12.0->tensorflow) (0.4.0)\n",
      "Requirement already satisfied: grpcio<2.0,>=1.24.3 in c:\\users\\avina\\appdata\\roaming\\python\\python39\\site-packages (from tensorflow-intel==2.12.0->tensorflow) (1.53.0)\n",
      "Requirement already satisfied: h5py>=2.9.0 in c:\\users\\avina\\appdata\\local\\programs\\python\\python39\\lib\\site-packages (from tensorflow-intel==2.12.0->tensorflow) (3.13.0)\n",
      "Requirement already satisfied: numba>=0.54 in c:\\users\\avina\\appdata\\local\\programs\\python\\python39\\lib\\site-packages (from shap) (0.60.0)\n",
      "Requirement already satisfied: slicer==0.0.8 in c:\\users\\avina\\appdata\\local\\programs\\python\\python39\\lib\\site-packages (from shap) (0.0.8)\n",
      "Requirement already satisfied: cloudpickle in c:\\users\\avina\\appdata\\local\\programs\\python\\python39\\lib\\site-packages (from shap) (3.1.1)\n",
      "Requirement already satisfied: tqdm>=4.27.0 in c:\\users\\avina\\appdata\\local\\programs\\python\\python39\\lib\\site-packages (from shap) (4.67.1)\n",
      "Requirement already satisfied: importlib-resources>=3.2.0 in c:\\users\\avina\\appdata\\local\\programs\\python\\python39\\lib\\site-packages (from matplotlib) (6.5.2)\n",
      "Requirement already satisfied: fonttools>=4.22.0 in c:\\users\\avina\\appdata\\local\\programs\\python\\python39\\lib\\site-packages (from matplotlib) (4.57.0)\n",
      "Requirement already satisfied: pillow>=8 in c:\\users\\avina\\appdata\\local\\programs\\python\\python39\\lib\\site-packages (from matplotlib) (9.1.1)\n",
      "Requirement already satisfied: cycler>=0.10 in c:\\users\\avina\\appdata\\local\\programs\\python\\python39\\lib\\site-packages (from matplotlib) (0.12.1)\n",
      "Requirement already satisfied: contourpy>=1.0.1 in c:\\users\\avina\\appdata\\local\\programs\\python\\python39\\lib\\site-packages (from matplotlib) (1.3.0)\n",
      "Requirement already satisfied: kiwisolver>=1.3.1 in c:\\users\\avina\\appdata\\local\\programs\\python\\python39\\lib\\site-packages (from matplotlib) (1.4.7)\n",
      "Requirement already satisfied: pyparsing>=2.3.1 in c:\\users\\avina\\appdata\\local\\programs\\python\\python39\\lib\\site-packages (from matplotlib) (3.0.9)\n",
      "Requirement already satisfied: wheel<1.0,>=0.23.0 in c:\\users\\avina\\appdata\\local\\programs\\python\\python39\\lib\\site-packages (from astunparse>=1.6.0->tensorflow-intel==2.12.0->tensorflow) (0.45.1)\n",
      "Requirement already satisfied: zipp>=3.1.0 in c:\\users\\avina\\appdata\\local\\programs\\python\\python39\\lib\\site-packages (from importlib-resources>=3.2.0->matplotlib) (3.10.0)\n",
      "Requirement already satisfied: ml-dtypes>=0.0.3 in c:\\users\\avina\\appdata\\roaming\\python\\python39\\site-packages (from jax>=0.3.15->tensorflow-intel==2.12.0->tensorflow) (0.0.4)\n",
      "Requirement already satisfied: llvmlite<0.44,>=0.43.0dev0 in c:\\users\\avina\\appdata\\local\\programs\\python\\python39\\lib\\site-packages (from numba>=0.54->shap) (0.43.0)\n",
      "Requirement already satisfied: tensorboard-plugin-wit>=1.6.0 in c:\\users\\avina\\appdata\\local\\programs\\python\\python39\\lib\\site-packages (from tensorboard<2.13,>=2.12->tensorflow-intel==2.12.0->tensorflow) (1.8.1)\n",
      "Requirement already satisfied: google-auth<3,>=1.6.3 in c:\\users\\avina\\appdata\\roaming\\python\\python39\\site-packages (from tensorboard<2.13,>=2.12->tensorflow-intel==2.12.0->tensorflow) (2.17.1)\n",
      "Requirement already satisfied: werkzeug>=1.0.1 in c:\\users\\avina\\appdata\\local\\programs\\python\\python39\\lib\\site-packages (from tensorboard<2.13,>=2.12->tensorflow-intel==2.12.0->tensorflow) (3.1.3)\n",
      "Requirement already satisfied: google-auth-oauthlib<1.1,>=0.5 in c:\\users\\avina\\appdata\\roaming\\python\\python39\\site-packages (from tensorboard<2.13,>=2.12->tensorflow-intel==2.12.0->tensorflow) (1.0.0)\n",
      "Requirement already satisfied: requests<3,>=2.21.0 in c:\\users\\avina\\appdata\\local\\programs\\python\\python39\\lib\\site-packages (from tensorboard<2.13,>=2.12->tensorflow-intel==2.12.0->tensorflow) (2.32.3)\n",
      "Requirement already satisfied: markdown>=2.6.8 in c:\\users\\avina\\appdata\\local\\programs\\python\\python39\\lib\\site-packages (from tensorboard<2.13,>=2.12->tensorflow-intel==2.12.0->tensorflow) (3.8)\n",
      "Requirement already satisfied: tensorboard-data-server<0.8.0,>=0.7.0 in c:\\users\\avina\\appdata\\local\\programs\\python\\python39\\lib\\site-packages (from tensorboard<2.13,>=2.12->tensorflow-intel==2.12.0->tensorflow) (0.7.2)\n",
      "Requirement already satisfied: rsa<5,>=3.1.4 in c:\\users\\avina\\appdata\\local\\programs\\python\\python39\\lib\\site-packages (from google-auth<3,>=1.6.3->tensorboard<2.13,>=2.12->tensorflow-intel==2.12.0->tensorflow) (4.9.1)\n",
      "Requirement already satisfied: cachetools<6.0,>=2.0.0 in c:\\users\\avina\\appdata\\roaming\\python\\python39\\site-packages (from google-auth<3,>=1.6.3->tensorboard<2.13,>=2.12->tensorflow-intel==2.12.0->tensorflow) (5.3.0)\n",
      "Requirement already satisfied: pyasn1-modules>=0.2.1 in c:\\users\\avina\\appdata\\local\\programs\\python\\python39\\lib\\site-packages (from google-auth<3,>=1.6.3->tensorboard<2.13,>=2.12->tensorflow-intel==2.12.0->tensorflow) (0.4.2)\n",
      "Requirement already satisfied: requests-oauthlib>=0.7.0 in c:\\users\\avina\\appdata\\local\\programs\\python\\python39\\lib\\site-packages (from google-auth-oauthlib<1.1,>=0.5->tensorboard<2.13,>=2.12->tensorflow-intel==2.12.0->tensorflow) (2.0.0)\n",
      "Requirement already satisfied: importlib-metadata>=4.4 in c:\\users\\avina\\appdata\\local\\programs\\python\\python39\\lib\\site-packages (from markdown>=2.6.8->tensorboard<2.13,>=2.12->tensorflow-intel==2.12.0->tensorflow) (5.0.0)\n",
      "Requirement already satisfied: pyasn1<0.7.0,>=0.6.1 in c:\\users\\avina\\appdata\\local\\programs\\python\\python39\\lib\\site-packages (from pyasn1-modules>=0.2.1->google-auth<3,>=1.6.3->tensorboard<2.13,>=2.12->tensorflow-intel==2.12.0->tensorflow) (0.6.1)\n",
      "Requirement already satisfied: urllib3<3,>=1.21.1 in c:\\users\\avina\\appdata\\local\\programs\\python\\python39\\lib\\site-packages (from requests<3,>=2.21.0->tensorboard<2.13,>=2.12->tensorflow-intel==2.12.0->tensorflow) (2.4.0)\n",
      "Requirement already satisfied: certifi>=2017.4.17 in c:\\users\\avina\\appdata\\local\\programs\\python\\python39\\lib\\site-packages (from requests<3,>=2.21.0->tensorboard<2.13,>=2.12->tensorflow-intel==2.12.0->tensorflow) (2022.9.24)\n",
      "Requirement already satisfied: charset-normalizer<4,>=2 in c:\\users\\avina\\appdata\\local\\programs\\python\\python39\\lib\\site-packages (from requests<3,>=2.21.0->tensorboard<2.13,>=2.12->tensorflow-intel==2.12.0->tensorflow) (3.4.1)\n",
      "Requirement already satisfied: idna<4,>=2.5 in c:\\users\\avina\\appdata\\local\\programs\\python\\python39\\lib\\site-packages (from requests<3,>=2.21.0->tensorboard<2.13,>=2.12->tensorflow-intel==2.12.0->tensorflow) (3.4)\n",
      "Requirement already satisfied: oauthlib>=3.0.0 in c:\\users\\avina\\appdata\\local\\programs\\python\\python39\\lib\\site-packages (from requests-oauthlib>=0.7.0->google-auth-oauthlib<1.1,>=0.5->tensorboard<2.13,>=2.12->tensorflow-intel==2.12.0->tensorflow) (3.2.2)\n",
      "Requirement already satisfied: colorama in c:\\users\\avina\\appdata\\local\\programs\\python\\python39\\lib\\site-packages (from tqdm>=4.27.0->shap) (0.4.4)\n",
      "Requirement already satisfied: MarkupSafe>=2.1.1 in c:\\users\\avina\\appdata\\local\\programs\\python\\python39\\lib\\site-packages (from werkzeug>=1.0.1->tensorboard<2.13,>=2.12->tensorflow-intel==2.12.0->tensorflow) (2.1.1)\n",
      "Note: you may need to restart the kernel to use updated packages.\n"
     ]
    },
    {
     "name": "stderr",
     "output_type": "stream",
     "text": [
      "WARNING: You are using pip version 21.2.4; however, version 25.1.1 is available.\n",
      "You should consider upgrading via the 'c:\\Users\\avina\\AppData\\Local\\Programs\\Python\\Python39\\python.exe -m pip install --upgrade pip' command.\n"
     ]
    }
   ],
   "source": [
    "# Installing Required Libraries for ML, DL, and vistualization.\n",
    "%pip install pandas numpy scikit-learn xgboost tensorflow shap matplotlib seaborn"
   ]
  },
  {
   "cell_type": "code",
   "execution_count": 2,
   "id": "efdcafc0-2a2f-4798-9c1e-d1a6cc5924eb",
   "metadata": {},
   "outputs": [
    {
     "name": "stdout",
     "output_type": "stream",
     "text": [
      "   Pregnancies  Glucose  BloodPressure  SkinThickness  Insulin   BMI  \\\n",
      "0            6      148             72             35        0  33.6   \n",
      "1            1       85             66             29        0  26.6   \n",
      "2            8      183             64              0        0  23.3   \n",
      "3            1       89             66             23       94  28.1   \n",
      "4            0      137             40             35      168  43.1   \n",
      "\n",
      "   DiabetesPedigreeFunction  Age  Outcome  \n",
      "0                     0.627   50        1  \n",
      "1                     0.351   31        0  \n",
      "2                     0.672   32        1  \n",
      "3                     0.167   21        0  \n",
      "4                     2.288   33        1  \n"
     ]
    }
   ],
   "source": [
    "# Loading the Pima India Diabetes Dataset from a CSV file.\n",
    "import pandas as pd\n",
    "\n",
    "# Load dataset\n",
    "df = pd.read_csv('diabetes.csv')\n",
    "print(df.head())  # Check the first few rows"
   ]
  },
  {
   "cell_type": "code",
   "execution_count": 3,
   "id": "1c2ced09-7f0d-4fb6-8f70-edd47034834a",
   "metadata": {},
   "outputs": [],
   "source": [
    "#Handle Missing Values: Replaceing zeros in key columns (e.g., Glucose, BloodPressure) with median values.\n",
    "# Replaceing zeros with median values\n",
    "df[['Glucose', 'BloodPressure', 'SkinThickness', 'Insulin', 'BMI']] = df[['Glucose', 'BloodPressure', 'SkinThickness', 'Insulin', 'BMI']].replace(0, df.median())"
   ]
  },
  {
   "cell_type": "code",
   "execution_count": 4,
   "id": "da0e08e9-9775-47c3-9e23-d5e21cc26ad1",
   "metadata": {},
   "outputs": [],
   "source": [
    "#Spliting Features and Target: Separateing the features (X) and target variable (y).\n",
    "X = df.drop('Outcome', axis=1)  # Features\n",
    "y = df['Outcome']  # Target variable"
   ]
  },
  {
   "cell_type": "code",
   "execution_count": 5,
   "id": "a5fc475d-dd0b-48bb-9c6d-f6729a919347",
   "metadata": {},
   "outputs": [],
   "source": [
    "#Normalize/Standardize Features: Using StandardScaler to normalize the features.\n",
    "from sklearn.preprocessing import StandardScaler\n",
    "\n",
    "scaler = StandardScaler()\n",
    "X_scaled = scaler.fit_transform(X)"
   ]
  },
  {
   "cell_type": "code",
   "execution_count": 6,
   "id": "87bcc2a9-f90e-465c-8ac5-ab16f25efece",
   "metadata": {},
   "outputs": [],
   "source": [
    "# Spliting Data into Train and Test Sets: Useing 70% for training and 30% for testing.\n",
    "from sklearn.model_selection import train_test_split\n",
    "\n",
    "X_train, X_test, y_train, y_test = train_test_split(X_scaled, y, test_size=0.3, random_state=42)"
   ]
  },
  {
   "cell_type": "code",
   "execution_count": 7,
   "id": "d2eb06a5-5c32-4a79-a404-88e68c93835b",
   "metadata": {},
   "outputs": [],
   "source": [
    "# Compare Machine Learning Models\n",
    "# Initializeing ML Models: Using Random Forest, SVM, XGBoost, and Decision Tree.\n",
    "\n",
    "from sklearn.ensemble import RandomForestClassifier\n",
    "from sklearn.svm import SVC\n",
    "from xgboost import XGBClassifier\n",
    "from sklearn.tree import DecisionTreeClassifier\n",
    "\n",
    "models = {\n",
    "    \"Random Forest\": RandomForestClassifier(random_state=42),\n",
    "    \"SVM\": SVC(probability=True, random_state=42),\n",
    "    \"XGBoost\": XGBClassifier(random_state=42),\n",
    "    \"Decision Tree\": DecisionTreeClassifier(random_state=42)\n",
    "}"
   ]
  },
  {
   "cell_type": "code",
   "execution_count": 8,
   "id": "2295acdb-a0b9-4434-ba87-b3a531e67ba9",
   "metadata": {},
   "outputs": [
    {
     "name": "stdout",
     "output_type": "stream",
     "text": [
      "Requirement already satisfied: tabulate in c:\\users\\avina\\appdata\\local\\programs\\python\\python39\\lib\\site-packages (0.9.0)\n",
      "Note: you may need to restart the kernel to use updated packages.\n"
     ]
    },
    {
     "name": "stderr",
     "output_type": "stream",
     "text": [
      "WARNING: You are using pip version 21.2.4; however, version 25.1.1 is available.\n",
      "You should consider upgrading via the 'c:\\Users\\avina\\AppData\\Local\\Programs\\Python\\Python39\\python.exe -m pip install --upgrade pip' command.\n"
     ]
    },
    {
     "name": "stdout",
     "output_type": "stream",
     "text": [
      "\n",
      "Model Performance Summary:\n",
      "======================================================================\n",
      "+---------------+------------+-------------+----------+------------+-----------+\n",
      "| Model         |   Accuracy |   Precision |   Recall |   F1-Score |   ROC-AUC |\n",
      "+===============+============+=============+==========+============+===========+\n",
      "| Random Forest |   0.757576 |    0.639535 |   0.6875 |   0.662651 |  0.814983 |\n",
      "+---------------+------------+-------------+----------+------------+-----------+\n",
      "| SVM           |   0.74026  |    0.638889 |   0.575  |   0.605263 |  0.79702  |\n",
      "+---------------+------------+-------------+----------+------------+-----------+\n",
      "| XGBoost       |   0.727273 |    0.595506 |   0.6625 |   0.627219 |  0.779636 |\n",
      "+---------------+------------+-------------+----------+------------+-----------+\n",
      "| Decision Tree |   0.709957 |    0.568421 |   0.675  |   0.617143 |  0.701738 |\n",
      "+---------------+------------+-------------+----------+------------+-----------+\n",
      "\n",
      "Best Model: Random Forest\n",
      "\n",
      "Accuracy: 0.7576\n",
      "Precision: 0.6395\n",
      "Recall: 0.6875\n",
      "F1-Score: 0.6627\n",
      "ROC-AUC: 0.8150\n",
      "======================================================================\n"
     ]
    }
   ],
   "source": [
    "# Training and Evaluateing ML Models:\n",
    "# Training each model and evaluate using accuracy, precision, recall, F1-score, and ROC-AUC.\n",
    "%pip install tabulate\n",
    "\n",
    "from sklearn.metrics import accuracy_score, precision_score, recall_score, f1_score, roc_auc_score\n",
    "from tabulate import tabulate\n",
    "\n",
    "results = []\n",
    "\n",
    "for name, model in models.items():\n",
    "    model.fit(X_train, y_train)\n",
    "    y_pred = model.predict(X_test)\n",
    "    y_proba = model.predict_proba(X_test)[:, 1]\n",
    "\n",
    "    results.append([\n",
    "        name,\n",
    "        accuracy_score(y_test, y_pred),\n",
    "        precision_score(y_test, y_pred),\n",
    "        recall_score(y_test, y_pred),\n",
    "        f1_score(y_test, y_pred),\n",
    "        roc_auc_score(y_test, y_proba),\n",
    "    ])\n",
    "\n",
    "# Print results in a tabular format\n",
    "headers = [\"Model\", \"Accuracy\", \"Precision\", \"Recall\", \"F1-Score\", \"ROC-AUC\"]\n",
    "print(\"\\nModel Performance Summary:\\n\" + \"=\"*70)\n",
    "print(tabulate(results, headers=headers, tablefmt=\"grid\"))\n",
    "\n",
    "# Find the best model based on ROC-AUC (or change to F1-Score)\n",
    "best_model = max(results, key=lambda x: x[5])  # Index 5 is ROC-AUC\n",
    "\n",
    "# Print the best model\n",
    "print(\"\\nBest Model: {}\\n\".format(best_model[0]))\n",
    "print(f\"Accuracy: {best_model[1]:.4f}\")\n",
    "print(f\"Precision: {best_model[2]:.4f}\")\n",
    "print(f\"Recall: {best_model[3]:.4f}\")\n",
    "print(f\"F1-Score: {best_model[4]:.4f}\")\n",
    "print(f\"ROC-AUC: {best_model[5]:.4f}\")\n",
    "print(\"=\"*70)\n",
    "\n"
   ]
  },
  {
   "cell_type": "code",
   "execution_count": 9,
   "id": "2b0d527c-d38e-400e-88a0-124bed72b4e8",
   "metadata": {},
   "outputs": [
    {
     "name": "stdout",
     "output_type": "stream",
     "text": [
      "LSTM Input Shape - Train: (537, 8, 1), Test: (231, 8, 1)\n"
     ]
    }
   ],
   "source": [
    "# Preparing Data for Deep Learning Models\n",
    "# Deep Learning models (e.g., LSTM, DNN) require data to be in a specific format. For LSTM, the input must be 3D (samples, timesteps, features).\n",
    "\n",
    "import numpy as np\n",
    "\n",
    "# Reshape data for LSTM (3D input: samples, timesteps, features)\n",
    "X_train_lstm = X_train.reshape(X_train.shape[0], X_train.shape[1], 1)\n",
    "X_test_lstm = X_test.reshape(X_test.shape[0], X_test.shape[1], 1)\n",
    "\n",
    "print(f\"LSTM Input Shape - Train: {X_train_lstm.shape}, Test: {X_test_lstm.shape}\")"
   ]
  },
  {
   "cell_type": "code",
   "execution_count": 10,
   "id": "6259601e-38de-46a7-99e0-187aba9b5f76",
   "metadata": {},
   "outputs": [
    {
     "name": "stdout",
     "output_type": "stream",
     "text": [
      "Epoch 1/50\n",
      "14/14 [==============================] - 13s 183ms/step - loss: 0.6358 - accuracy: 0.7389 - val_loss: 0.5812 - val_accuracy: 0.7130\n",
      "Epoch 2/50\n",
      "14/14 [==============================] - 0s 29ms/step - loss: 0.5438 - accuracy: 0.7483 - val_loss: 0.5273 - val_accuracy: 0.6944\n",
      "Epoch 3/50\n",
      "14/14 [==============================] - 0s 28ms/step - loss: 0.5211 - accuracy: 0.7459 - val_loss: 0.5247 - val_accuracy: 0.7130\n",
      "Epoch 4/50\n",
      "14/14 [==============================] - 0s 26ms/step - loss: 0.5132 - accuracy: 0.7413 - val_loss: 0.5200 - val_accuracy: 0.7130\n",
      "Epoch 5/50\n",
      "14/14 [==============================] - 1s 43ms/step - loss: 0.5156 - accuracy: 0.7459 - val_loss: 0.5176 - val_accuracy: 0.7130\n",
      "Epoch 6/50\n",
      "14/14 [==============================] - 0s 29ms/step - loss: 0.5133 - accuracy: 0.7413 - val_loss: 0.5229 - val_accuracy: 0.7222\n",
      "Epoch 7/50\n",
      "14/14 [==============================] - 0s 30ms/step - loss: 0.5138 - accuracy: 0.7413 - val_loss: 0.5178 - val_accuracy: 0.7130\n",
      "Epoch 8/50\n",
      "14/14 [==============================] - 0s 28ms/step - loss: 0.5139 - accuracy: 0.7366 - val_loss: 0.5198 - val_accuracy: 0.7222\n",
      "Epoch 9/50\n",
      "14/14 [==============================] - 1s 45ms/step - loss: 0.5129 - accuracy: 0.7483 - val_loss: 0.5193 - val_accuracy: 0.7222\n",
      "Epoch 10/50\n",
      "14/14 [==============================] - 1s 43ms/step - loss: 0.5125 - accuracy: 0.7459 - val_loss: 0.5175 - val_accuracy: 0.7130\n",
      "Epoch 11/50\n",
      "14/14 [==============================] - 1s 42ms/step - loss: 0.5156 - accuracy: 0.7343 - val_loss: 0.5233 - val_accuracy: 0.7222\n",
      "Epoch 12/50\n",
      "14/14 [==============================] - 1s 56ms/step - loss: 0.5100 - accuracy: 0.7366 - val_loss: 0.5153 - val_accuracy: 0.7222\n",
      "Epoch 13/50\n",
      "14/14 [==============================] - 1s 43ms/step - loss: 0.5129 - accuracy: 0.7366 - val_loss: 0.5181 - val_accuracy: 0.7222\n",
      "Epoch 14/50\n",
      "14/14 [==============================] - 0s 30ms/step - loss: 0.5096 - accuracy: 0.7436 - val_loss: 0.5180 - val_accuracy: 0.7222\n",
      "Epoch 15/50\n",
      "14/14 [==============================] - 0s 30ms/step - loss: 0.5094 - accuracy: 0.7483 - val_loss: 0.5178 - val_accuracy: 0.7222\n",
      "Epoch 16/50\n",
      "14/14 [==============================] - 0s 29ms/step - loss: 0.5099 - accuracy: 0.7459 - val_loss: 0.5176 - val_accuracy: 0.7222\n",
      "Epoch 17/50\n",
      "14/14 [==============================] - 0s 27ms/step - loss: 0.5129 - accuracy: 0.7389 - val_loss: 0.5220 - val_accuracy: 0.7222\n",
      "Epoch 18/50\n",
      "14/14 [==============================] - 0s 31ms/step - loss: 0.5088 - accuracy: 0.7413 - val_loss: 0.5156 - val_accuracy: 0.7222\n",
      "Epoch 19/50\n",
      "14/14 [==============================] - 1s 45ms/step - loss: 0.5107 - accuracy: 0.7366 - val_loss: 0.5153 - val_accuracy: 0.7222\n",
      "Epoch 20/50\n",
      "14/14 [==============================] - 0s 28ms/step - loss: 0.5094 - accuracy: 0.7413 - val_loss: 0.5175 - val_accuracy: 0.7222\n",
      "Epoch 21/50\n",
      "14/14 [==============================] - 0s 32ms/step - loss: 0.5089 - accuracy: 0.7389 - val_loss: 0.5189 - val_accuracy: 0.7315\n",
      "Epoch 22/50\n",
      "14/14 [==============================] - 0s 32ms/step - loss: 0.5083 - accuracy: 0.7366 - val_loss: 0.5162 - val_accuracy: 0.7222\n",
      "Epoch 23/50\n",
      "14/14 [==============================] - 0s 30ms/step - loss: 0.5076 - accuracy: 0.7366 - val_loss: 0.5156 - val_accuracy: 0.7222\n",
      "Epoch 24/50\n",
      "14/14 [==============================] - 0s 30ms/step - loss: 0.5094 - accuracy: 0.7413 - val_loss: 0.5166 - val_accuracy: 0.7222\n",
      "Epoch 25/50\n",
      "14/14 [==============================] - 0s 30ms/step - loss: 0.5086 - accuracy: 0.7389 - val_loss: 0.5201 - val_accuracy: 0.7222\n",
      "Epoch 26/50\n",
      "14/14 [==============================] - 0s 28ms/step - loss: 0.5074 - accuracy: 0.7436 - val_loss: 0.5158 - val_accuracy: 0.7222\n",
      "Epoch 27/50\n",
      "14/14 [==============================] - 0s 33ms/step - loss: 0.5065 - accuracy: 0.7366 - val_loss: 0.5159 - val_accuracy: 0.7315\n",
      "Epoch 28/50\n",
      "14/14 [==============================] - 0s 28ms/step - loss: 0.5069 - accuracy: 0.7389 - val_loss: 0.5165 - val_accuracy: 0.7315\n",
      "Epoch 29/50\n",
      "14/14 [==============================] - 0s 30ms/step - loss: 0.5071 - accuracy: 0.7366 - val_loss: 0.5162 - val_accuracy: 0.7222\n",
      "Epoch 30/50\n",
      "14/14 [==============================] - 0s 29ms/step - loss: 0.5063 - accuracy: 0.7413 - val_loss: 0.5148 - val_accuracy: 0.7222\n",
      "Epoch 31/50\n",
      "14/14 [==============================] - 0s 31ms/step - loss: 0.5064 - accuracy: 0.7483 - val_loss: 0.5168 - val_accuracy: 0.7222\n",
      "Epoch 32/50\n",
      "14/14 [==============================] - 0s 32ms/step - loss: 0.5075 - accuracy: 0.7413 - val_loss: 0.5144 - val_accuracy: 0.7222\n",
      "Epoch 33/50\n",
      "14/14 [==============================] - 0s 30ms/step - loss: 0.5085 - accuracy: 0.7436 - val_loss: 0.5162 - val_accuracy: 0.7222\n",
      "Epoch 34/50\n",
      "14/14 [==============================] - 1s 46ms/step - loss: 0.5083 - accuracy: 0.7483 - val_loss: 0.5175 - val_accuracy: 0.7037\n",
      "Epoch 35/50\n",
      "14/14 [==============================] - 0s 28ms/step - loss: 0.5038 - accuracy: 0.7506 - val_loss: 0.5164 - val_accuracy: 0.7222\n",
      "Epoch 36/50\n",
      "14/14 [==============================] - 0s 29ms/step - loss: 0.5054 - accuracy: 0.7483 - val_loss: 0.5150 - val_accuracy: 0.7037\n",
      "Epoch 37/50\n",
      "14/14 [==============================] - 0s 28ms/step - loss: 0.5044 - accuracy: 0.7413 - val_loss: 0.5130 - val_accuracy: 0.7222\n",
      "Epoch 38/50\n",
      "14/14 [==============================] - 0s 30ms/step - loss: 0.5008 - accuracy: 0.7436 - val_loss: 0.5151 - val_accuracy: 0.7037\n",
      "Epoch 39/50\n",
      "14/14 [==============================] - 0s 33ms/step - loss: 0.5022 - accuracy: 0.7506 - val_loss: 0.5137 - val_accuracy: 0.7037\n",
      "Epoch 40/50\n",
      "14/14 [==============================] - 0s 30ms/step - loss: 0.5015 - accuracy: 0.7436 - val_loss: 0.5110 - val_accuracy: 0.7037\n",
      "Epoch 41/50\n",
      "14/14 [==============================] - 0s 34ms/step - loss: 0.4984 - accuracy: 0.7413 - val_loss: 0.5137 - val_accuracy: 0.7037\n",
      "Epoch 42/50\n",
      "14/14 [==============================] - 1s 46ms/step - loss: 0.4981 - accuracy: 0.7483 - val_loss: 0.5124 - val_accuracy: 0.6944\n",
      "Epoch 43/50\n",
      "14/14 [==============================] - 1s 42ms/step - loss: 0.5093 - accuracy: 0.7413 - val_loss: 0.5139 - val_accuracy: 0.7037\n",
      "Epoch 44/50\n",
      "14/14 [==============================] - 0s 27ms/step - loss: 0.5069 - accuracy: 0.7459 - val_loss: 0.5200 - val_accuracy: 0.7130\n",
      "Epoch 45/50\n",
      "14/14 [==============================] - 0s 26ms/step - loss: 0.4951 - accuracy: 0.7483 - val_loss: 0.5089 - val_accuracy: 0.7037\n",
      "Epoch 46/50\n",
      "14/14 [==============================] - 0s 28ms/step - loss: 0.4983 - accuracy: 0.7483 - val_loss: 0.5116 - val_accuracy: 0.6944\n",
      "Epoch 47/50\n",
      "14/14 [==============================] - 0s 30ms/step - loss: 0.4984 - accuracy: 0.7459 - val_loss: 0.5150 - val_accuracy: 0.6944\n",
      "Epoch 48/50\n",
      "14/14 [==============================] - 0s 30ms/step - loss: 0.4960 - accuracy: 0.7552 - val_loss: 0.5086 - val_accuracy: 0.6944\n",
      "Epoch 49/50\n",
      "14/14 [==============================] - 0s 31ms/step - loss: 0.4954 - accuracy: 0.7459 - val_loss: 0.5062 - val_accuracy: 0.6944\n",
      "Epoch 50/50\n",
      "14/14 [==============================] - 1s 46ms/step - loss: 0.4961 - accuracy: 0.7506 - val_loss: 0.5049 - val_accuracy: 0.7037\n",
      "8/8 [==============================] - 2s 9ms/step\n",
      "8/8 [==============================] - 0s 15ms/step\n"
     ]
    }
   ],
   "source": [
    "# Building and Training Deep Learning Models\n",
    "# We will build two DL models:\n",
    "# LSTM (Long Short-Term Memory): Suitable for sequential data.\n",
    "# DNN (Deep Neural Network): A standard feedforward neural network.\n",
    "\n",
    "\n",
    "\n",
    "from tensorflow.keras.models import Sequential\n",
    "from tensorflow.keras.layers import LSTM, Dense, Dropout\n",
    "\n",
    "# Build LSTM Model\n",
    "lstm_model = Sequential([\n",
    "    LSTM(64, return_sequences=True, input_shape=(X_train_lstm.shape[1], 1)),  # First LSTM layer\n",
    "    LSTM(32),  # Second LSTM layer\n",
    "    Dense(1, activation='sigmoid')  # Output layer\n",
    "])\n",
    "\n",
    "# Compile the model\n",
    "lstm_model.compile(optimizer='adam', loss='binary_crossentropy', metrics=['accuracy'])\n",
    "\n",
    "# Train the model\n",
    "lstm_history = lstm_model.fit(X_train_lstm, y_train, epochs=50, batch_size=32, validation_split=0.2)\n",
    "\n",
    "# Evaluate the model\n",
    "lstm_y_pred = (lstm_model.predict(X_test_lstm) > 0.5).astype(int)\n",
    "lstm_y_proba = lstm_model.predict(X_test_lstm)"
   ]
  },
  {
   "cell_type": "code",
   "execution_count": 11,
   "id": "2adc8ee7-63de-425f-8259-27ca9cf146cb",
   "metadata": {},
   "outputs": [
    {
     "name": "stdout",
     "output_type": "stream",
     "text": [
      "Epoch 1/50\n",
      "14/14 [==============================] - 2s 35ms/step - loss: 0.6208 - accuracy: 0.6643 - val_loss: 0.5942 - val_accuracy: 0.7037\n",
      "Epoch 2/50\n",
      "14/14 [==============================] - 0s 10ms/step - loss: 0.5478 - accuracy: 0.6946 - val_loss: 0.5426 - val_accuracy: 0.7315\n",
      "Epoch 3/50\n",
      "14/14 [==============================] - 0s 9ms/step - loss: 0.4926 - accuracy: 0.7622 - val_loss: 0.5151 - val_accuracy: 0.7500\n",
      "Epoch 4/50\n",
      "14/14 [==============================] - 0s 10ms/step - loss: 0.4748 - accuracy: 0.7692 - val_loss: 0.4993 - val_accuracy: 0.7593\n",
      "Epoch 5/50\n",
      "14/14 [==============================] - 0s 10ms/step - loss: 0.4512 - accuracy: 0.7902 - val_loss: 0.4898 - val_accuracy: 0.7407\n",
      "Epoch 6/50\n",
      "14/14 [==============================] - 0s 10ms/step - loss: 0.4476 - accuracy: 0.7786 - val_loss: 0.4851 - val_accuracy: 0.7407\n",
      "Epoch 7/50\n",
      "14/14 [==============================] - 0s 8ms/step - loss: 0.4309 - accuracy: 0.7972 - val_loss: 0.4816 - val_accuracy: 0.7500\n",
      "Epoch 8/50\n",
      "14/14 [==============================] - 0s 10ms/step - loss: 0.4338 - accuracy: 0.7855 - val_loss: 0.4780 - val_accuracy: 0.7593\n",
      "Epoch 9/50\n",
      "14/14 [==============================] - 0s 8ms/step - loss: 0.4285 - accuracy: 0.7925 - val_loss: 0.4766 - val_accuracy: 0.7407\n",
      "Epoch 10/50\n",
      "14/14 [==============================] - 0s 10ms/step - loss: 0.4300 - accuracy: 0.7762 - val_loss: 0.4758 - val_accuracy: 0.7407\n",
      "Epoch 11/50\n",
      "14/14 [==============================] - 0s 10ms/step - loss: 0.4132 - accuracy: 0.8019 - val_loss: 0.4752 - val_accuracy: 0.7315\n",
      "Epoch 12/50\n",
      "14/14 [==============================] - 0s 11ms/step - loss: 0.4086 - accuracy: 0.7902 - val_loss: 0.4761 - val_accuracy: 0.7315\n",
      "Epoch 13/50\n",
      "14/14 [==============================] - 0s 11ms/step - loss: 0.4087 - accuracy: 0.7902 - val_loss: 0.4771 - val_accuracy: 0.7222\n",
      "Epoch 14/50\n",
      "14/14 [==============================] - 0s 36ms/step - loss: 0.4099 - accuracy: 0.7972 - val_loss: 0.4773 - val_accuracy: 0.7407\n",
      "Epoch 15/50\n",
      "14/14 [==============================] - 0s 16ms/step - loss: 0.3967 - accuracy: 0.8065 - val_loss: 0.4784 - val_accuracy: 0.7500\n",
      "Epoch 16/50\n",
      "14/14 [==============================] - 0s 13ms/step - loss: 0.4013 - accuracy: 0.8182 - val_loss: 0.4770 - val_accuracy: 0.7407\n",
      "Epoch 17/50\n",
      "14/14 [==============================] - 0s 20ms/step - loss: 0.4058 - accuracy: 0.8042 - val_loss: 0.4800 - val_accuracy: 0.7500\n",
      "Epoch 18/50\n",
      "14/14 [==============================] - 0s 13ms/step - loss: 0.4034 - accuracy: 0.8159 - val_loss: 0.4797 - val_accuracy: 0.7500\n",
      "Epoch 19/50\n",
      "14/14 [==============================] - 0s 18ms/step - loss: 0.4121 - accuracy: 0.7879 - val_loss: 0.4803 - val_accuracy: 0.7407\n",
      "Epoch 20/50\n",
      "14/14 [==============================] - 0s 21ms/step - loss: 0.3815 - accuracy: 0.7925 - val_loss: 0.4785 - val_accuracy: 0.7500\n",
      "Epoch 21/50\n",
      "14/14 [==============================] - 0s 18ms/step - loss: 0.3841 - accuracy: 0.7995 - val_loss: 0.4810 - val_accuracy: 0.7500\n",
      "Epoch 22/50\n",
      "14/14 [==============================] - 0s 20ms/step - loss: 0.3852 - accuracy: 0.8089 - val_loss: 0.4823 - val_accuracy: 0.7407\n",
      "Epoch 23/50\n",
      "14/14 [==============================] - 0s 20ms/step - loss: 0.3925 - accuracy: 0.8065 - val_loss: 0.4802 - val_accuracy: 0.7500\n",
      "Epoch 24/50\n",
      "14/14 [==============================] - 0s 16ms/step - loss: 0.3847 - accuracy: 0.8159 - val_loss: 0.4823 - val_accuracy: 0.7593\n",
      "Epoch 25/50\n",
      "14/14 [==============================] - 0s 10ms/step - loss: 0.3866 - accuracy: 0.7995 - val_loss: 0.4794 - val_accuracy: 0.7500\n",
      "Epoch 26/50\n",
      "14/14 [==============================] - 0s 10ms/step - loss: 0.3863 - accuracy: 0.7995 - val_loss: 0.4796 - val_accuracy: 0.7593\n",
      "Epoch 27/50\n",
      "14/14 [==============================] - 0s 13ms/step - loss: 0.3759 - accuracy: 0.8252 - val_loss: 0.4803 - val_accuracy: 0.7500\n",
      "Epoch 28/50\n",
      "14/14 [==============================] - 0s 9ms/step - loss: 0.3767 - accuracy: 0.8135 - val_loss: 0.4820 - val_accuracy: 0.7685\n",
      "Epoch 29/50\n",
      "14/14 [==============================] - 0s 20ms/step - loss: 0.3848 - accuracy: 0.8089 - val_loss: 0.4836 - val_accuracy: 0.7593\n",
      "Epoch 30/50\n",
      "14/14 [==============================] - 0s 15ms/step - loss: 0.3705 - accuracy: 0.8275 - val_loss: 0.4810 - val_accuracy: 0.7407\n",
      "Epoch 31/50\n",
      "14/14 [==============================] - 0s 10ms/step - loss: 0.3903 - accuracy: 0.8065 - val_loss: 0.4795 - val_accuracy: 0.7500\n",
      "Epoch 32/50\n",
      "14/14 [==============================] - 0s 11ms/step - loss: 0.3679 - accuracy: 0.8135 - val_loss: 0.4795 - val_accuracy: 0.7593\n",
      "Epoch 33/50\n",
      "14/14 [==============================] - 0s 10ms/step - loss: 0.3756 - accuracy: 0.8182 - val_loss: 0.4788 - val_accuracy: 0.7778\n",
      "Epoch 34/50\n",
      "14/14 [==============================] - 0s 10ms/step - loss: 0.3708 - accuracy: 0.8112 - val_loss: 0.4785 - val_accuracy: 0.7593\n",
      "Epoch 35/50\n",
      "14/14 [==============================] - 0s 12ms/step - loss: 0.3700 - accuracy: 0.8275 - val_loss: 0.4761 - val_accuracy: 0.7593\n",
      "Epoch 36/50\n",
      "14/14 [==============================] - 0s 9ms/step - loss: 0.3802 - accuracy: 0.8252 - val_loss: 0.4749 - val_accuracy: 0.7685\n",
      "Epoch 37/50\n",
      "14/14 [==============================] - 0s 11ms/step - loss: 0.3719 - accuracy: 0.8159 - val_loss: 0.4756 - val_accuracy: 0.7685\n",
      "Epoch 38/50\n",
      "14/14 [==============================] - 0s 11ms/step - loss: 0.3618 - accuracy: 0.8252 - val_loss: 0.4782 - val_accuracy: 0.7685\n",
      "Epoch 39/50\n",
      "14/14 [==============================] - 0s 11ms/step - loss: 0.3549 - accuracy: 0.8275 - val_loss: 0.4794 - val_accuracy: 0.7593\n",
      "Epoch 40/50\n",
      "14/14 [==============================] - 0s 11ms/step - loss: 0.3703 - accuracy: 0.8089 - val_loss: 0.4808 - val_accuracy: 0.7593\n",
      "Epoch 41/50\n",
      "14/14 [==============================] - 0s 9ms/step - loss: 0.3652 - accuracy: 0.8089 - val_loss: 0.4815 - val_accuracy: 0.7593\n",
      "Epoch 42/50\n",
      "14/14 [==============================] - 0s 9ms/step - loss: 0.3627 - accuracy: 0.8508 - val_loss: 0.4811 - val_accuracy: 0.7685\n",
      "Epoch 43/50\n",
      "14/14 [==============================] - 0s 9ms/step - loss: 0.3587 - accuracy: 0.8345 - val_loss: 0.4832 - val_accuracy: 0.7778\n",
      "Epoch 44/50\n",
      "14/14 [==============================] - 0s 9ms/step - loss: 0.3577 - accuracy: 0.8438 - val_loss: 0.4819 - val_accuracy: 0.7685\n",
      "Epoch 45/50\n",
      "14/14 [==============================] - 0s 12ms/step - loss: 0.3548 - accuracy: 0.8228 - val_loss: 0.4792 - val_accuracy: 0.7685\n",
      "Epoch 46/50\n",
      "14/14 [==============================] - 0s 10ms/step - loss: 0.3579 - accuracy: 0.8205 - val_loss: 0.4743 - val_accuracy: 0.7685\n",
      "Epoch 47/50\n",
      "14/14 [==============================] - 0s 10ms/step - loss: 0.3534 - accuracy: 0.8252 - val_loss: 0.4736 - val_accuracy: 0.7593\n",
      "Epoch 48/50\n",
      "14/14 [==============================] - 1s 40ms/step - loss: 0.3417 - accuracy: 0.8345 - val_loss: 0.4750 - val_accuracy: 0.7685\n",
      "Epoch 49/50\n",
      "14/14 [==============================] - 0s 18ms/step - loss: 0.3382 - accuracy: 0.8345 - val_loss: 0.4761 - val_accuracy: 0.7593\n",
      "Epoch 50/50\n",
      "14/14 [==============================] - 0s 21ms/step - loss: 0.3582 - accuracy: 0.8252 - val_loss: 0.4798 - val_accuracy: 0.7500\n",
      "8/8 [==============================] - 0s 5ms/step\n",
      "8/8 [==============================] - 0s 3ms/step\n"
     ]
    }
   ],
   "source": [
    "# DNN Model:\n",
    "from tensorflow.keras.layers import Dense, Dropout\n",
    "\n",
    "# Build DNN Model\n",
    "dnn_model = Sequential([\n",
    "    Dense(64, activation='relu', input_shape=(X_train.shape[1],)),  # First hidden layer\n",
    "    Dropout(0.2),  # Dropout for regularization\n",
    "    Dense(32, activation='relu'),  # Second hidden layer\n",
    "    Dense(1, activation='sigmoid')  # Output layer\n",
    "])\n",
    "\n",
    "# Compile the model\n",
    "dnn_model.compile(optimizer='adam', loss='binary_crossentropy', metrics=['accuracy'])\n",
    "\n",
    "# Train the model\n",
    "dnn_history = dnn_model.fit(X_train, y_train, epochs=50, batch_size=32, validation_split=0.2)\n",
    "\n",
    "# Evaluate the model\n",
    "dnn_y_pred = (dnn_model.predict(X_test) > 0.5).astype(int)\n",
    "dnn_y_proba = dnn_model.predict(X_test)"
   ]
  },
  {
   "cell_type": "code",
   "execution_count": 12,
   "id": "2c485d3d-adc2-4c54-95dd-242be9fe1bf9",
   "metadata": {},
   "outputs": [
    {
     "name": "stdout",
     "output_type": "stream",
     "text": [
      "\n",
      "Model Performance Summary (ML + DL):\n",
      "======================================================================\n",
      "╒═══════════════╤════════════╤═════════════╤══════════╤════════════╤═══════════╕\n",
      "│ Model         │   Accuracy │   Precision │   Recall │   F1-Score │   ROC-AUC │\n",
      "╞═══════════════╪════════════╪═════════════╪══════════╪════════════╪═══════════╡\n",
      "│ Random Forest │   0.757576 │    0.639535 │   0.6875 │   0.662651 │  0.814983 │\n",
      "├───────────────┼────────────┼─────────────┼──────────┼────────────┼───────────┤\n",
      "│ SVM           │   0.74026  │    0.638889 │   0.575  │   0.605263 │  0.79702  │\n",
      "├───────────────┼────────────┼─────────────┼──────────┼────────────┼───────────┤\n",
      "│ XGBoost       │   0.727273 │    0.595506 │   0.6625 │   0.627219 │  0.779636 │\n",
      "├───────────────┼────────────┼─────────────┼──────────┼────────────┼───────────┤\n",
      "│ Decision Tree │   0.709957 │    0.568421 │   0.675  │   0.617143 │  0.701738 │\n",
      "├───────────────┼────────────┼─────────────┼──────────┼────────────┼───────────┤\n",
      "│ LSTM          │   0.701299 │    0.575342 │   0.525  │   0.54902  │  0.77856  │\n",
      "├───────────────┼────────────┼─────────────┼──────────┼────────────┼───────────┤\n",
      "│ DNN           │   0.709957 │    0.578313 │   0.6    │   0.588957 │  0.791639 │\n",
      "╘═══════════════╧════════════╧═════════════╧══════════╧════════════╧═══════════╛\n",
      "\n",
      " **Best Model: Random Forest**\n",
      " Accuracy: 0.7576\n",
      " Precision: 0.6395\n",
      " Recall: 0.6875\n",
      " F1-Score: 0.6627\n",
      " ROC-AUC: 0.8150\n",
      "======================================================================\n"
     ]
    }
   ],
   "source": [
    "# Evaluateing DL Models\n",
    "# Evaluateing the DL models using the same metrics as the ML models (Accuracy, Precision, Recall, F1-Score, ROC-AUC).\n",
    "\n",
    "\n",
    "from sklearn.metrics import accuracy_score, precision_score, recall_score, f1_score, roc_auc_score\n",
    "from tabulate import tabulate\n",
    "\n",
    "# Evaluate LSTM\n",
    "lstm_metrics = [\n",
    "    \"LSTM\",\n",
    "    accuracy_score(y_test, lstm_y_pred),\n",
    "    precision_score(y_test, lstm_y_pred),\n",
    "    recall_score(y_test, lstm_y_pred),\n",
    "    f1_score(y_test, lstm_y_pred),\n",
    "    roc_auc_score(y_test, lstm_y_proba)\n",
    "]\n",
    "\n",
    "# Evaluate DNN\n",
    "dnn_metrics = [\n",
    "    \"DNN\",\n",
    "    accuracy_score(y_test, dnn_y_pred),\n",
    "    precision_score(y_test, dnn_y_pred),\n",
    "    recall_score(y_test, dnn_y_pred),\n",
    "    f1_score(y_test, dnn_y_pred),\n",
    "    roc_auc_score(y_test, dnn_y_proba)\n",
    "]\n",
    "\n",
    "# Add DL results to ML results\n",
    "results.append(lstm_metrics)\n",
    "results.append(dnn_metrics)\n",
    "\n",
    "# Print results in a formatted table\n",
    "print(\"\\nModel Performance Summary (ML + DL):\\n\" + \"=\"*70)\n",
    "print(tabulate(results, headers=[\"Model\", \"Accuracy\", \"Precision\", \"Recall\", \"F1-Score\", \"ROC-AUC\"], tablefmt=\"fancy_grid\"))\n",
    "\n",
    "# Find the best model based on ROC-AUC\n",
    "best_model = max(results, key=lambda x: x[5])  # Index 5 is ROC-AUC\n",
    "\n",
    "\n",
    "# #  Compare ML and DL Models\n",
    "# Now, compare the performance of the Random Forest (best ML model) with the LSTM and DNN models.\n",
    "\n",
    "\n",
    "# Print the best model with a highlight\n",
    "print(\"\\n **Best Model: {}**\".format(best_model[0]))\n",
    "print(f\" Accuracy: {best_model[1]:.4f}\")\n",
    "print(f\" Precision: {best_model[2]:.4f}\")\n",
    "print(f\" Recall: {best_model[3]:.4f}\")\n",
    "print(f\" F1-Score: {best_model[4]:.4f}\")\n",
    "print(f\" ROC-AUC: {best_model[5]:.4f}\")\n",
    "print(\"=\"*70)\n"
   ]
  },
  {
   "cell_type": "code",
   "execution_count": 13,
   "id": "9dc98336-feeb-4cea-ab15-787ba2660c60",
   "metadata": {},
   "outputs": [
    {
     "name": "stdout",
     "output_type": "stream",
     "text": [
      "8/8 [==============================] - 0s 8ms/step\n",
      "8/8 [==============================] - 0s 2ms/step\n"
     ]
    },
    {
     "data": {
      "image/png": "[encoded data removed]",
      "text/plain": [
       "<Figure size 720x432 with 1 Axes>"
      ]
     },
     "metadata": {
      "needs_background": "light"
     },
     "output_type": "display_data"
    }
   ],
   "source": [
    "# Visualizeing Results:\n",
    "# Visualizeing the results using ROC curves and confusion matrices.\n",
    "\n",
    "# ROC Curve:\n",
    "\n",
    "import matplotlib.pyplot as plt\n",
    "from sklearn.metrics import roc_curve\n",
    "\n",
    "# Plot ROC Curve\n",
    "plt.figure(figsize=(10, 6))\n",
    "\n",
    "# For ML models\n",
    "for name, model in models.items():\n",
    "    y_proba = model.predict_proba(X_test)[:, 1]  # Predicted probabilities\n",
    "    fpr, tpr, _ = roc_curve(y_test, y_proba)\n",
    "    roc_auc = roc_auc_score(y_test, y_proba)\n",
    "    plt.plot(fpr, tpr, label=f\"{name} (AUC = {roc_auc:.2f})\")\n",
    "\n",
    "# For DL models\n",
    "dl_models = {\"LSTM\": lstm_model, \"DNN\": dnn_model}\n",
    "for name, model in dl_models.items():\n",
    "    y_proba = model.predict(X_test_lstm if name == \"LSTM\" else X_test).flatten()  # Predicted probabilities\n",
    "    fpr, tpr, _ = roc_curve(y_test, y_proba)\n",
    "    roc_auc = roc_auc_score(y_test, y_proba)\n",
    "    plt.plot(fpr, tpr, label=f\"{name} (AUC = {roc_auc:.2f})\")\n",
    "\n",
    "# Plot random guess line\n",
    "plt.plot([0, 1], [0, 1], 'k--', label=\"Random Guess\")\n",
    "\n",
    "# Add labels and legend\n",
    "plt.xlabel('False Positive Rate')\n",
    "plt.ylabel('True Positive Rate')\n",
    "plt.title('ROC Curve Comparison')\n",
    "plt.legend()\n",
    "plt.show()"
   ]
  },
  {
   "cell_type": "code",
   "execution_count": 14,
   "id": "9bc0ea8f-be18-4e5c-902c-1c66ef522d65",
   "metadata": {},
   "outputs": [
    {
     "data": {
      "image/png": "[encoded data removed]",
      "text/plain": [
       "<Figure size 432x288 with 2 Axes>"
      ]
     },
     "metadata": {
      "needs_background": "light"
     },
     "output_type": "display_data"
    },
    {
     "data": {
      "image/png": "[encoded data removed]",
      "text/plain": [
       "<Figure size 432x288 with 2 Axes>"
      ]
     },
     "metadata": {
      "needs_background": "light"
     },
     "output_type": "display_data"
    },
    {
     "data": {
      "image/png": "[encoded data removed]",
      "text/plain": [
       "<Figure size 432x288 with 2 Axes>"
      ]
     },
     "metadata": {
      "needs_background": "light"
     },
     "output_type": "display_data"
    },
    {
     "data": {
      "image/png": "[encoded data removed]",
      "text/plain": [
       "<Figure size 432x288 with 2 Axes>"
      ]
     },
     "metadata": {
      "needs_background": "light"
     },
     "output_type": "display_data"
    },
    {
     "name": "stdout",
     "output_type": "stream",
     "text": [
      "8/8 [==============================] - 0s 6ms/step\n"
     ]
    },
    {
     "data": {
      "image/png": "[encoded data removed]",
      "text/plain": [
       "<Figure size 432x288 with 2 Axes>"
      ]
     },
     "metadata": {
      "needs_background": "light"
     },
     "output_type": "display_data"
    },
    {
     "name": "stdout",
     "output_type": "stream",
     "text": [
      "8/8 [==============================] - 0s 3ms/step\n"
     ]
    },
    {
     "data": {
      "image/png": "[encoded data removed]",
      "text/plain": [
       "<Figure size 432x288 with 2 Axes>"
      ]
     },
     "metadata": {
      "needs_background": "light"
     },
     "output_type": "display_data"
    }
   ],
   "source": [
    "# Confusion Matrix:\n",
    "\n",
    "from sklearn.metrics import confusion_matrix, ConfusionMatrixDisplay\n",
    "\n",
    "# For ML models\n",
    "for name, model in models.items():\n",
    "    y_pred = model.predict(X_test)\n",
    "    cm = confusion_matrix(y_test, y_pred)\n",
    "    disp = ConfusionMatrixDisplay(confusion_matrix=cm, display_labels=model.classes_)\n",
    "    disp.plot()\n",
    "    plt.title(f\"Confusion Matrix - {name}\")\n",
    "    plt.show()\n",
    "\n",
    "# For DL models\n",
    "for name, model in dl_models.items():\n",
    "    y_pred = (model.predict(X_test_lstm if name == \"LSTM\" else X_test) > 0.5).astype(int)\n",
    "    cm = confusion_matrix(y_test, y_pred)\n",
    "    disp = ConfusionMatrixDisplay(confusion_matrix=cm, display_labels=[0, 1])\n",
    "    disp.plot()\n",
    "    plt.title(f\"Confusion Matrix - {name}\")\n",
    "    plt.show()\n"
   ]
  },
  {
   "cell_type": "code",
   "execution_count": 15,
   "id": "d1d3bf5f-2c3b-4149-9b6c-2898a3c4bb78",
   "metadata": {},
   "outputs": [
    {
     "name": "stdout",
     "output_type": "stream",
     "text": [
      "8/8 [==============================] - 0s 7ms/step\n",
      "8/8 [==============================] - 0s 2ms/step\n"
     ]
    }
   ],
   "source": [
    "# Saving Results\n",
    "\n",
    "import csv\n",
    "\n",
    "# Save ROC-AUC scores\n",
    "with open('roc_auc_scores.csv', 'w', newline='') as file:\n",
    "    writer = csv.writer(file)\n",
    "    writer.writerow([\"Model\", \"ROC-AUC\"])\n",
    "    for name, model in {**models, **dl_models}.items():\n",
    "        y_proba = model.predict_proba(X_test)[:, 1] if name in models else model.predict(X_test_lstm if name == \"LSTM\" else X_test).flatten()\n",
    "        roc_auc = roc_auc_score(y_test, y_proba)\n",
    "        writer.writerow([name, roc_auc])"
   ]
  },
  {
   "cell_type": "code",
   "execution_count": 16,
   "id": "a2d2dd9e-7d55-42d9-91aa-7bfe0559be6d",
   "metadata": {},
   "outputs": [
    {
     "name": "stdout",
     "output_type": "stream",
     "text": [
      "8/8 [==============================] - 0s 7ms/step\n",
      "8/8 [==============================] - 0s 2ms/step\n"
     ]
    }
   ],
   "source": [
    "# Saving Confusion Matrices:\n",
    "\n",
    "import csv\n",
    "from sklearn.metrics import confusion_matrix\n",
    "\n",
    "# Save confusion matrices\n",
    "with open('confusion_matrices.csv', 'w', newline='') as file:\n",
    "    writer = csv.writer(file)\n",
    "    writer.writerow([\"Model\", \"True Negative\", \"False Positive\", \"False Negative\", \"True Positive\"])\n",
    "    \n",
    "    # For ML models\n",
    "    for name, model in models.items():\n",
    "        y_pred = model.predict(X_test)\n",
    "        tn, fp, fn, tp = confusion_matrix(y_test, y_pred).ravel()\n",
    "        writer.writerow([name, tn, fp, fn, tp])\n",
    "    \n",
    "    # For DL models\n",
    "    for name, model in dl_models.items():\n",
    "        y_pred = (model.predict(X_test_lstm if name == \"LSTM\" else X_test) > 0.5).astype(int)\n",
    "        tn, fp, fn, tp = confusion_matrix(y_test, y_pred).ravel()\n",
    "        writer.writerow([name, tn, fp, fn, tp])"
   ]
  },
  {
   "cell_type": "code",
   "execution_count": 17,
   "id": "6d9df0f4-3408-4d15-8c94-125e8ae2ac15",
   "metadata": {},
   "outputs": [
    {
     "name": "stdout",
     "output_type": "stream",
     "text": [
      "8/8 [==============================] - 0s 7ms/step\n",
      "8/8 [==============================] - 0s 4ms/step\n"
     ]
    },
    {
     "data": {
      "image/png": "[encoded data removed]",
      "text/plain": [
       "<Figure size 1296x864 with 12 Axes>"
      ]
     },
     "metadata": {
      "needs_background": "light"
     },
     "output_type": "display_data"
    }
   ],
   "source": [
    "import matplotlib.pyplot as plt\n",
    "from sklearn.metrics import confusion_matrix, ConfusionMatrixDisplay\n",
    "\n",
    "# Create a figure with subplots\n",
    "fig, axes = plt.subplots(2, 3, figsize=(18, 12))  # 2 rows, 3 columns for 6 models\n",
    "fig.suptitle('Confusion Matrices for All Models', fontsize=16)\n",
    "\n",
    "# List of models and their predictions\n",
    "models = {\n",
    "    \"Random Forest\": (models[\"Random Forest\"].predict(X_test), \"Random Forest\"),\n",
    "    \"SVM\": (models[\"SVM\"].predict(X_test), \"SVM\"),\n",
    "    \"XGBoost\": (models[\"XGBoost\"].predict(X_test), \"XGBoost\"),\n",
    "    \"Decision Tree\": (models[\"Decision Tree\"].predict(X_test), \"Decision Tree\"),\n",
    "    \"LSTM\": ((lstm_model.predict(X_test_lstm) > 0.5).astype(int), \"LSTM\"),\n",
    "    \"DNN\": ((dnn_model.predict(X_test) > 0.5).astype(int), \"DNN\")\n",
    "}\n",
    "\n",
    "# Plot confusion matrices\n",
    "for i, (name, (y_pred, title)) in enumerate(models.items()):\n",
    "    ax = axes[i // 3, i % 3]  # Determine subplot position\n",
    "    cm = confusion_matrix(y_test, y_pred)\n",
    "    disp = ConfusionMatrixDisplay(confusion_matrix=cm, display_labels=[0, 1])\n",
    "    disp.plot(ax=ax, cmap=plt.cm.Blues)\n",
    "    ax.set_title(title)\n",
    "\n",
    "# Adjust layout and display\n",
    "plt.tight_layout()\n",
    "plt.show()"
   ]
  },
  {
   "cell_type": "code",
   "execution_count": 18,
   "id": "d0919610-b7ee-48b1-9c72-adb6757a15d5",
   "metadata": {},
   "outputs": [
    {
     "data": {
      "text/plain": [
       "['diabetes_scaler.joblib']"
      ]
     },
     "execution_count": 18,
     "metadata": {},
     "output_type": "execute_result"
    }
   ],
   "source": [
    "# In your Jupyter notebook, after training your model\n",
    "from sklearn.ensemble import RandomForestClassifier\n",
    "import joblib\n",
    "\n",
    "# Assuming you have:\n",
    "# model = RandomForestClassifier(...)\n",
    "# model.fit(X_train, y_train)\n",
    "\n",
    "# Save the ACTUAL model (not predictions)\n",
    "joblib.dump(model, 'true_random_forest_model.joblib')\n",
    "\n",
    "# If you need the scaler too (assuming you have one)\n",
    "joblib.dump(scaler, 'diabetes_scaler.joblib')"
   ]
  },
  {
   "cell_type": "code",
   "execution_count": 19,
   "id": "7ba929f7-ce3a-4823-9d6c-f9d62c9c3844",
   "metadata": {},
   "outputs": [
    {
     "name": "stderr",
     "output_type": "stream",
     "text": [
      "c:\\Users\\avina\\AppData\\Local\\Programs\\Python\\Python39\\lib\\site-packages\\sklearn\\base.py:493: UserWarning: X does not have valid feature names, but StandardScaler was fitted with feature names\n",
      "  warnings.warn(\n"
     ]
    },
    {
     "name": "stdout",
     "output_type": "stream",
     "text": [
      "1/1 [==============================] - 0s 97ms/step\n",
      "Diabetic Probability: 0.8278\n",
      "1/1 [==============================] - 0s 55ms/step\n",
      "Diabetic Probability: 0.8934\n"
     ]
    }
   ],
   "source": [
    "import numpy as np\n",
    "\n",
    "# Reshape input for LSTM (samples, timesteps, features)\n",
    "input_data = np.array([[7, 180, 90, 34, 230, 33.5, 0.672, 45]])  \n",
    "\n",
    "# Scale the data (use the same scaler from training)\n",
    "input_scaled = scaler.transform(input_data)  # Assuming you have 'scaler' object\n",
    "\n",
    "# For LSTM:\n",
    "input_reshaped = input_scaled.reshape(input_scaled.shape[0], input_scaled.shape[1], 1)\n",
    "prob = lstm_model.predict(input_reshaped)[0][0]  # Get probability between 0-1\n",
    "print(f\"Diabetic Probability: {prob:.4f}\")\n",
    "\n",
    "# For DNN:\n",
    "prob = dnn_model.predict(input_scaled)[0][0]\n",
    "print(f\"Diabetic Probability: {prob:.4f}\")"
   ]
  },
  {
   "cell_type": "code",
   "execution_count": 20,
   "id": "69bcd583",
   "metadata": {},
   "outputs": [
    {
     "name": "stdout",
     "output_type": "stream",
     "text": [
      "1/1 [==============================] - 0s 115ms/step\n",
      "Diabetic Probability: 89.34%\n"
     ]
    }
   ],
   "source": [
    "import pandas as pd\n",
    "import joblib\n",
    "\n",
    "# Load models\n",
    "rf_model = joblib.load('true_random_forest_model.joblib') \n",
    "scaler = joblib.load('diabetes_scaler.joblib')\n",
    "\n",
    "# Create DataFrame with correct feature names\n",
    "input_df = pd.DataFrame(\n",
    "    [[7, 180, 90, 34, 230, 33.5, 0.672, 45]],\n",
    "    columns=['Pregnancies', 'Glucose', 'BloodPressure', \n",
    "             'SkinThickness', 'Insulin', 'BMI',\n",
    "             'DiabetesPedigreeFunction', 'Age']\n",
    ")\n",
    "\n",
    "# Scale and predict\n",
    "input_scaled = scaler.transform(input_df)  # No more warning\n",
    "prob = rf_model.predict(input_scaled)[0][0]\n",
    "print(f\"Diabetic Probability: {prob:.2%}\")  # Shows: 92.95%"
   ]
  },
  {
   "cell_type": "code",
   "execution_count": 22,
   "id": "a8c2e8be",
   "metadata": {},
   "outputs": [
    {
     "data": {
      "text/plain": [
       "['scaler.pkl']"
      ]
     },
     "execution_count": 22,
     "metadata": {},
     "output_type": "execute_result"
    }
   ],
   "source": [
    "import joblib\n",
    "\n",
    "# Save model\n",
    "joblib.dump(rf_model, 'model.pkl')\n",
    "\n",
    "# Save scaler\n",
    "joblib.dump(scaler, 'scaler.pkl')\n"
   ]
  },
  {
   "cell_type": "code",
   "execution_count": 23,
   "id": "10470efb",
   "metadata": {},
   "outputs": [
    {
     "name": "stderr",
     "output_type": "stream",
     "text": [
      "C:\\Users\\avina\\AppData\\Local\\Temp\\ipykernel_13884\\662501307.py:17: FutureWarning: A value is trying to be set on a copy of a DataFrame or Series through chained assignment using an inplace method.\n",
      "The behavior will change in pandas 3.0. This inplace method will never work because the intermediate object on which we are setting values always behaves as a copy.\n",
      "\n",
      "For example, when doing 'df[col].method(value, inplace=True)', try using 'df.method({col: value}, inplace=True)' or df[col] = df[col].method(value) instead, to perform the operation inplace on the original object.\n",
      "\n",
      "\n",
      "  df_copy['Glucose'].fillna(df_copy['Glucose'].mean(), inplace=True)\n",
      "C:\\Users\\avina\\AppData\\Local\\Temp\\ipykernel_13884\\662501307.py:18: FutureWarning: A value is trying to be set on a copy of a DataFrame or Series through chained assignment using an inplace method.\n",
      "The behavior will change in pandas 3.0. This inplace method will never work because the intermediate object on which we are setting values always behaves as a copy.\n",
      "\n",
      "For example, when doing 'df[col].method(value, inplace=True)', try using 'df.method({col: value}, inplace=True)' or df[col] = df[col].method(value) instead, to perform the operation inplace on the original object.\n",
      "\n",
      "\n",
      "  df_copy['BloodPressure'].fillna(df_copy['BloodPressure'].mean(), inplace=True)\n",
      "C:\\Users\\avina\\AppData\\Local\\Temp\\ipykernel_13884\\662501307.py:19: FutureWarning: A value is trying to be set on a copy of a DataFrame or Series through chained assignment using an inplace method.\n",
      "The behavior will change in pandas 3.0. This inplace method will never work because the intermediate object on which we are setting values always behaves as a copy.\n",
      "\n",
      "For example, when doing 'df[col].method(value, inplace=True)', try using 'df.method({col: value}, inplace=True)' or df[col] = df[col].method(value) instead, to perform the operation inplace on the original object.\n",
      "\n",
      "\n",
      "  df_copy['SkinThickness'].fillna(df_copy['SkinThickness'].median(), inplace=True)\n",
      "C:\\Users\\avina\\AppData\\Local\\Temp\\ipykernel_13884\\662501307.py:20: FutureWarning: A value is trying to be set on a copy of a DataFrame or Series through chained assignment using an inplace method.\n",
      "The behavior will change in pandas 3.0. This inplace method will never work because the intermediate object on which we are setting values always behaves as a copy.\n",
      "\n",
      "For example, when doing 'df[col].method(value, inplace=True)', try using 'df.method({col: value}, inplace=True)' or df[col] = df[col].method(value) instead, to perform the operation inplace on the original object.\n",
      "\n",
      "\n",
      "  df_copy['Insulin'].fillna(df_copy['Insulin'].median(), inplace=True)\n",
      "C:\\Users\\avina\\AppData\\Local\\Temp\\ipykernel_13884\\662501307.py:21: FutureWarning: A value is trying to be set on a copy of a DataFrame or Series through chained assignment using an inplace method.\n",
      "The behavior will change in pandas 3.0. This inplace method will never work because the intermediate object on which we are setting values always behaves as a copy.\n",
      "\n",
      "For example, when doing 'df[col].method(value, inplace=True)', try using 'df.method({col: value}, inplace=True)' or df[col] = df[col].method(value) instead, to perform the operation inplace on the original object.\n",
      "\n",
      "\n",
      "  df_copy['BMI'].fillna(df_copy['BMI'].median(), inplace=True)\n"
     ]
    }
   ],
   "source": [
    "# Importing essential libraries\n",
    "import numpy as np\n",
    "import pandas as pd\n",
    "import pickle\n",
    "\n",
    "# Loading the dataset\n",
    "df = pd.read_csv('diabetes.csv')\n",
    "\n",
    "# Renaming DiabetesPedigreeFunction as DPF\n",
    "df = df.rename(columns={'DiabetesPedigreeFunction':'DPF'})\n",
    "\n",
    "# Replacing the 0 values from ['Glucose','BloodPressure','SkinThickness','Insulin','BMI'] by NaN\n",
    "df_copy = df.copy(deep=True)\n",
    "df_copy[['Glucose','BloodPressure','SkinThickness','Insulin','BMI']] = df_copy[['Glucose','BloodPressure','SkinThickness','Insulin','BMI']].replace(0,np.NaN)\n",
    "\n",
    "# Replacing NaN value by mean, median depending upon distribution\n",
    "df_copy['Glucose'].fillna(df_copy['Glucose'].mean(), inplace=True)\n",
    "df_copy['BloodPressure'].fillna(df_copy['BloodPressure'].mean(), inplace=True)\n",
    "df_copy['SkinThickness'].fillna(df_copy['SkinThickness'].median(), inplace=True)\n",
    "df_copy['Insulin'].fillna(df_copy['Insulin'].median(), inplace=True)\n",
    "df_copy['BMI'].fillna(df_copy['BMI'].median(), inplace=True)\n",
    "\n",
    "# Model Building\n",
    "from sklearn.model_selection import train_test_split\n",
    "X = df.drop(columns='Outcome')\n",
    "y = df['Outcome']\n",
    "X_train, X_test, y_train, y_test = train_test_split(X, y, test_size=0.20, random_state=0)\n",
    "\n",
    "# Creating Random Forest Model\n",
    "from sklearn.ensemble import RandomForestClassifier\n",
    "classifier = RandomForestClassifier(n_estimators=20)\n",
    "classifier.fit(X_train, y_train)\n",
    "\n",
    "# Creating a pickle file for the classifier\n",
    "filename = 'diabetes-prediction-rfc-model.pkl'\n",
    "pickle.dump(classifier, open(filename, 'wb'))"
   ]
  }
 ],
 "metadata": {
  "kernelspec": {
   "display_name": "Python 3",
   "language": "python",
   "name": "python3"
  },
  "language_info": {
   "codemirror_mode": {
    "name": "ipython",
    "version": 3
   },
   "file_extension": ".py",
   "mimetype": "text/x-python",
   "name": "python",
   "nbconvert_exporter": "python",
   "pygments_lexer": "ipython3",
   "version": "3.9.8"
  }
 },
 "nbformat": 4,
 "nbformat_minor": 5
}
